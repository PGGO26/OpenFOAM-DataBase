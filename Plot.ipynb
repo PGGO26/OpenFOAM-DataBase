{
 "cells": [
  {
   "cell_type": "markdown",
   "metadata": {},
   "source": [
    "# Training plot"
   ]
  },
  {
   "cell_type": "code",
   "execution_count": 70,
   "metadata": {},
   "outputs": [],
   "source": [
    "import matplotlib.pyplot as plt\n",
    "import numpy as np\n",
    "\n",
    "training_data = np.load('temp/Training loss data.npy')\n",
    "loss = training_data[0]\n",
    "val_loss = training_data[1]\n",
    "epochs = range(1, len(loss) + 1)\n",
    "\n",
    "plt.plot(epochs, loss, 'b-', label='Training loss')\n",
    "plt.plot(epochs, val_loss, 'r-', label='Validation loss')\n",
    "plt.title('Training and Validation loss')\n",
    "plt.xlabel('epochs')\n",
    "plt.ylabel('loss')\n",
    "plt.legend()\n",
    "plt.savefig('trainPlot/Training and Validation loss')\n",
    "plt.close()\n",
    "\n",
    "plt.plot(epochs[-10000:], loss[-10000:], 'b-', label='Training loss')\n",
    "# plt.plot(epochs[-300:], val_loss[-300:], 'r-', label='Validation loss')\n",
    "plt.title('Training and Validation loss the last 10000 epochs')\n",
    "plt.xlabel('epochs')\n",
    "plt.ylabel('loss')\n",
    "# plt.legend()\n",
    "plt.savefig('trainPlot/Training and Validation loss the last 10000 epochs')\n",
    "plt.close()\n",
    "\n",
    "plt.plot(epochs[2500:], loss[2500:], 'b-', label='Training loss')\n",
    "# plt.plot(epochs[-300:], val_loss[-300:], 'r-', label='Validation loss')\n",
    "plt.title('Training and Validation loss the after 2500 epochs')\n",
    "plt.xlabel('epochs')\n",
    "plt.ylabel('loss')\n",
    "# plt.legend()\n",
    "plt.savefig('trainPlot/Training and Validation loss after 2500 epochs')\n",
    "plt.close()\n",
    "\n",
    "plt.plot(epochs[:200], loss[:200], 'b-', label='Training loss')\n",
    "plt.plot(epochs[:200], val_loss[:200], 'r-', label='Validation loss')\n",
    "plt.title('Training and Validation loss loss first 200 epochs')\n",
    "plt.xlabel('epochs')\n",
    "plt.ylabel('loss')\n",
    "plt.legend()\n",
    "plt.savefig('trainPlot/Training and Validation loss first 200 epochs')\n",
    "plt.close()"
   ]
  },
  {
   "cell_type": "markdown",
   "metadata": {},
   "source": [
    "# Predictions and Testing data"
   ]
  },
  {
   "cell_type": "code",
   "execution_count": 71,
   "metadata": {},
   "outputs": [
    {
     "name": "stdout",
     "output_type": "stream",
     "text": [
      "AOA : 0\n",
      "upper mape : 19.531624576791458%\n",
      "lower mape : 16.78117289291843%\n",
      "AOA : -5.0\n",
      "upper mape : 29.60399584881091%\n",
      "lower mape : 23.847438064736746%\n",
      "AOA : 5.0\n",
      "upper mape : 12.662530707048129%\n",
      "lower mape : 9.777712792382747%\n"
     ]
    }
   ],
   "source": [
    "import numpy as np\n",
    "import pandas as pd\n",
    "from os import listdir, mkdir, path\n",
    "from matplotlib import pyplot as plt\n",
    "\n",
    "airfoil = 'ah94156'\n",
    "test_dir = f'test/{airfoil}.dat/v40/'\n",
    "predictions = np.load('temp/predictions.npy')\n",
    "if not path.exists(f'testPlot/{airfoil}'):\n",
    "    mkdir(f'testPlot/{airfoil}/')\n",
    "\n",
    "# Plotting data process\n",
    "for plotting_index in range(3):\n",
    "    \n",
    "    plotting_predictions = predictions[plotting_index]\n",
    "    datalst = listdir(test_dir)\n",
    "    filename = test_dir + datalst[plotting_index]\n",
    "    aoa = filename.split(' ')[1].split('.npz')[0]\n",
    "    x = np.moveaxis(np.load('temp/data0.npy'), 0, 1)[0]\n",
    "    data = np.load(filename)\n",
    "    y = np.zeros(101)\n",
    "    cf = np.zeros(101)\n",
    "    for i in range(101):\n",
    "        y[i] = float(data['input'][0][i])\n",
    "        cf[i] = data['cf'][0][i]\n",
    "\n",
    "    # predictions\n",
    "    df = pd.DataFrame({'x':x, 'y':y, 'prediction':plotting_predictions, 'cf':cf})\n",
    "    df_upper = df[df['y'] > 0.]\n",
    "    df_lower = df[df['y'] < 0.]\n",
    "    upper = df_upper.sort_values(by=['x'])\n",
    "    lower = df_lower.sort_values(by=['x'])\n",
    "    upper['mape'] = np.absolute((upper['cf'] - upper['prediction']) / upper['cf'])\n",
    "    lower['mape'] = np.absolute((lower['cf'] - lower['prediction']) / lower['cf'])\n",
    "\n",
    "    upper = upper[upper['mape'] < 1.0]\n",
    "    lower = lower[lower['mape'] < 1.0]\n",
    "    mape = [np.mean(upper['mape']), np.mean(lower['mape'])]\n",
    "    print(f'AOA : {aoa}\\nupper mape : {mape[0] * 100}%\\nlower mape : {mape[1] * 100}%')\n",
    "\n",
    "    # mkdir(f'testPlot/{airfoil}/{aoa}')\n",
    "    # fig, ax = plt.subplots(2,1, sharex=True)\n",
    "\n",
    "    plt.plot(upper['x'], upper['prediction'], 'bo-', label='prediction')\n",
    "    plt.plot(upper['x'], upper['cf'], 'ro-', label='CFD')\n",
    "    plt.legend()\n",
    "    plt.title(f'Upper surface - AOA : {aoa}')\n",
    "    plt.xlabel('x poisition')\n",
    "    plt.ylabel('Shear Stress coefficient')\n",
    "    plt.savefig(f'testPlot/{airfoil}/{aoa}/upper surface')\n",
    "    plt.close()\n",
    "\n",
    "    plt.plot(lower['x'], lower['prediction'], 'bo-', label='prediction')\n",
    "    plt.plot(lower['x'], lower['cf'], 'ro-', label='CFD')\n",
    "    plt.legend()\n",
    "    plt.title(f'Lower surface - AOA : {aoa}')\n",
    "    plt.xlabel('x poisition')\n",
    "    plt.ylabel('Shear Stress coefficient')\n",
    "    plt.savefig(f'testPlot/{airfoil}/{aoa}/lower surface')\n",
    "    plt.close()\n",
    "\n",
    "    # ax[0].set_title('Upper surface')\n",
    "    # ax[0].plot(upper['x'], upper['prediction'], 'bo-', label='prediction')\n",
    "    # ax[0].plot(upper['x'], upper['cf'], 'ro-', label='CFD')\n",
    "    # ax[0].legend()\n",
    "    # ax[0].set_xlabel('x position')\n",
    "    # ax[0].set_ylabel('Shear Stress coefficient')\n",
    "    # ax[1].set_title('lower surface')\n",
    "    # ax[1].plot(lower['x'], lower['prediction'], 'bo-', label='prediction')\n",
    "    # ax[1].plot(lower['x'], lower['cf'], 'ro-', label='CFD')\n",
    "    # ax[1].legend()\n",
    "    # ax[1].set_ylabel('Shear Stress coefficient')\n",
    "    # plt.savefig(f'testPlot/ah94156/{aoa}/CFD vs Prediction')\n",
    "    # plt.close()\n"
   ]
  },
  {
   "cell_type": "markdown",
   "metadata": {},
   "source": [
    "# Testing dataSet Cf Plotting"
   ]
  },
  {
   "cell_type": "code",
   "execution_count": 6,
   "metadata": {},
   "outputs": [
    {
     "name": "stdout",
     "output_type": "stream",
     "text": [
      "npz key=cf shape is : (1, 101, 1)\n"
     ]
    },
    {
     "data": {
      "text/plain": [
       "<matplotlib.colorbar.Colorbar at 0x7f8cfeea0d00>"
      ]
     },
     "execution_count": 6,
     "metadata": {},
     "output_type": "execute_result"
    },
    {
     "data": {
      "image/png": "[encoded data removed]",
      "text/plain": [
       "<Figure size 640x480 with 2 Axes>"
      ]
     },
     "metadata": {},
     "output_type": "display_data"
    }
   ],
   "source": [
    "import numpy as np\n",
    "from matplotlib import pyplot as plt\n",
    "\n",
    "from os import listdir\n",
    "datadir = 'test/ah94156.dat/v40/'\n",
    "datalst = listdir(datadir)\n",
    "data = np.load(datadir + datalst[10]) # 讀取第 n 筆數據\n",
    "\n",
    "print(f\"npz key=cf shape is : {data['cf'].shape}\")\n",
    "cf = data['cf'][0]\n",
    "\n",
    "x = np.moveaxis(np.load('temp/data0.npy'), 0, 1)[0]\n",
    "y = np.zeros(101)\n",
    "for i in range(101):\n",
    "    y[i] = data['input'][0][i]\n",
    "\n",
    "plt.scatter(x,y, c=cf)\n",
    "plt.title('ah94156 airfoil AOA 0 shear stress coefficient')\n",
    "plt.xlabel('x')\n",
    "plt.ylabel('y')\n",
    "plt.axis('equal')\n",
    "plt.colorbar()"
   ]
  },
  {
   "cell_type": "markdown",
   "metadata": {},
   "source": [
    "# AOA Plotting"
   ]
  },
  {
   "cell_type": "code",
   "execution_count": 44,
   "metadata": {},
   "outputs": [
    {
     "name": "stdout",
     "output_type": "stream",
     "text": [
      "AOA : -5.0\n",
      "upper mape : 29.98089696938487%\n",
      "lower mape : 21.927757830924204%\n"
     ]
    }
   ],
   "source": [
    "import numpy as np\n",
    "import pandas as pd\n",
    "from os import listdir, mkdir, path\n",
    "from matplotlib import pyplot as plt\n",
    "\n",
    "airfoil = 'ah94156'\n",
    "test_dir = f'test/{airfoil}.dat/v40/'\n",
    "predictions = np.load('temp/predictions.npy')\n",
    "if not path.exists(f'testPlot/{airfoil}'):\n",
    "    mkdir(f'testPlot/{airfoil}/')\n",
    "\n",
    "plotting_index = 1\n",
    "plotting_predictions = predictions[plotting_index]\n",
    "datalst = listdir(test_dir)\n",
    "filename = test_dir + datalst[plotting_index]\n",
    "aoa = filename.split(' ')[1].split('.npz')[0]\n",
    "x = np.moveaxis(np.load('temp/data0.npy'), 0, 1)[0]\n",
    "data = np.load(filename)\n",
    "y = np.zeros(101)\n",
    "cf = np.zeros(101)\n",
    "for i in range(101):\n",
    "    y[i] = float(data['input'][0][i])\n",
    "    cf[i] = data['cf'][0][i]\n",
    "\n",
    "# predictions\n",
    "df = pd.DataFrame({'x':x, 'y':y, 'prediction':plotting_predictions, 'cf':cf})\n",
    "df_upper = df[df['y'] > 0.]\n",
    "df_lower = df[df['y'] < 0.]\n",
    "upper = df_upper.sort_values(by=['x'])\n",
    "lower = df_lower.sort_values(by=['x'])\n",
    "upper['mape'] = np.absolute((upper['cf'] - upper['prediction']) / upper['cf'])\n",
    "lower['mape'] = np.absolute((lower['cf'] - lower['prediction']) / lower['cf'])\n",
    "\n",
    "upper = upper[upper['mape'] < 1.0]\n",
    "lower = lower[lower['mape'] < 1.0]\n",
    "mape = [np.mean(upper['mape']), np.mean(lower['mape'])]\n",
    "print(f'AOA : {aoa}\\nupper mape : {mape[0] * 100}%\\nlower mape : {mape[1] * 100}%')\n",
    "# mape\n",
    "# df_mape_upper = upper[upper['cf'] > 0.]\n",
    "# df_mape_lower = lower[lower['cf'] > 0.]\n",
    "# mape_upper = np.mean(np.absolute((df_mape_upper['cf'] - df_mape_upper['prediction']) / df_mape_upper['cf']))\n",
    "# mape_lower = np.mean(np.absolute((df_mape_lower['cf'] - df_mape_lower['prediction']) / df_mape_lower['cf']))\n",
    "# print(f'AOA : {aoa}, upper MAPE : {mape_upper * 100} %')\n",
    "# print(f'AOA : {aoa}, lower MAPE : {mape_lower * 100} %')\n",
    "\n",
    "# upper.head(110)"
   ]
  },
  {
   "cell_type": "code",
   "execution_count": null,
   "metadata": {},
   "outputs": [],
   "source": []
  }
 ],
 "metadata": {
  "kernelspec": {
   "display_name": "Python 3",
   "language": "python",
   "name": "python3"
  },
  "language_info": {
   "codemirror_mode": {
    "name": "ipython",
    "version": 3
   },
   "file_extension": ".py",
   "mimetype": "text/x-python",
   "name": "python",
   "nbconvert_exporter": "python",
   "pygments_lexer": "ipython3",
   "version": "3.8.10"
  },
  "orig_nbformat": 4
 },
 "nbformat": 4,
 "nbformat_minor": 2
}
